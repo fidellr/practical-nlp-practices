{
 "cells": [
  {
   "cell_type": "code",
   "execution_count": 4,
   "metadata": {
    "collapsed": true
   },
   "outputs": [],
   "source": [
    "import requests\n",
    "from bs4 import BeautifulSoup\n",
    "import pandas as pd\n",
    "import numpy as np\n",
    "import matplotlib.pyplot as plt\n",
    "import seaborn as sns\n",
    "import os\n",
    "%matplotlib inline\n"
   ]
  },
  {
   "cell_type": "code",
   "execution_count": 5,
   "metadata": {
    "collapsed": true
   },
   "outputs": [],
   "source": [
    "seed_urls = [\"https://inshorts.com/en/read/technology\",\n",
    "             \"https://inshorts.com/en/read/sports\",\n",
    "             \"https://inshorts.com/en/read/world\"]\n",
    "\n",
    "def build_datasets(seed_urls):\n",
    "    news_data = []\n",
    "    for url in seed_urls:\n",
    "        news_category = url.split(\"/\")[-1]\n",
    "        data = requests.get(url)\n",
    "        soup = BeautifulSoup(data.content,\"html.parser\")\n",
    "        \n",
    "        news_articles = [\n",
    "            {\n",
    "                'news_headline': headline.find('span', attrs={'itemprop': \"headline\"}).string,\n",
    "                'news_article': article.find('div', attrs={'itemprop': \"articleBody\"}).string,\n",
    "                'news_category': news_category,\n",
    "            }\n",
    "                for headline, article in\n",
    "                 zip(soup.find_all('div', class_=[\"news-card-title news-right-box\"]),\n",
    "                     soup.find_all('div', class_=[\"news-card-content news-right-box\"])\n",
    "                    )\n",
    "         ]\n",
    "       \n",
    "        news_data.extend(news_articles)\n",
    "        print(news_data)\n",
    "    df = pd.DataFrame(news_data)\n",
    "    df = df[['news_headline', 'news_article', 'news_category']]\n",
    "    return df"
   ]
  },
  {
   "cell_type": "code",
   "execution_count": 6,
   "metadata": {
    "collapsed": false
   },
   "outputs": [
    {
     "name": "stdout",
     "output_type": "stream",
     "text": [
      "[{'news_headline': \"That's an old meme: Google on Pak flag in 'best toilet paper' search\", 'news_article': 'After reports claimed Google Search for \\'best toilet paper in the world\\' showed Pakistani flag\\'s images, Google said the search results were from an old 2017 meme and not actual search results. Google found no evidence of Google Images ranking the flag for search. \"Since these news stories were published, images from them are ranking for this query,\" it added.', 'news_category': 'technology'}, {'news_headline': \"Was fixed in 2017: Google on 'Maps fooled you' banner in Goa\", 'news_article': 'Google has responded after an image of a banner in Goa warning tourists that Google Maps was showing them the wrong route to Baga Beach went viral. The banner read, \"You are fooled by Google Maps. This road [doesn\\'t] take you to Baga beach\". Google India said, \"We...already fixed this in 2017. Looks like the banner needs fixing now.\" ', 'news_category': 'technology'}, {'news_headline': \"Tech giants aren't regulated, shouldn't be let into banking: Kotak\", 'news_article': 'Kotak Mahindra Bank Managing Director Uday Kotak has said technology majors like Google and Facebook should not be allowed to become banks as they don\\'t want to be regulated. Adding that banks should not be complacent in facing competition by young companies, Kotak said within a week of demonetisation, a \"relatively unknown\" company became common among masses, hinting at Paytm.', 'news_category': 'technology'}, {'news_headline': \"China unveils world's first female AI news anchor\", 'news_article': \"Chinese state-owned Xinhua news agency unveiled a female AI news anchor, which it claims to be the world's first. The anchor named 'Xin Xiaomeng' will reportedly make her debut in March during the Two Sessions political meet in China. Xinhua, which unveiled the world's first AI news anchor (male) in November last year, claims he has published over 3,400 reports.\", 'news_category': 'technology'}, {'news_headline': 'Google responds to bug showing navigation in Urdu in India', 'news_article': 'Google has responded after several Indian users reported that a bug on Google Maps was delivering navigation instructions to them in Urdu. \"Our team is aware of the issue and they are working on a fix. Appreciate your patience,\" Google told journalist Ketan Pratap. Pratap had claimed he had not changed any settings and the bug appeared randomly.', 'news_category': 'technology'}, {'news_headline': \"Kerala Police inducts India's first humanoid robot officer\", 'news_article': \"Kerala Chief Minister Pinarayi Vijayan inaugurated the induction event of India's first humanoid robot 'KP-BOT', gendered female, into the Kerala Police force at the rank of Sub-Inspector. The robot, equipped with facial recognition technology, will work at the police headquarters' front desk. It will perform functions including greeting visitors and guiding them to appropriate sections. \", 'news_category': 'technology'}, {'news_headline': 'FB, Google to pre-verify political ads ahead of LS elections', 'news_article': 'Facebook and Google told the Bombay High Court they will employ strict \"pre-verification processes\" for political ads on their platforms ahead of 2019 Lok Sabha elections. To post a political advertisement on Facebook, Indians will need to submit ID card, issued by a valid Indian authority and provide Indian residence proof, Facebook\\'s counsel said. Google has employed a similar process. ', 'news_category': 'technology'}, {'news_headline': 'IIT Madras develops algorithm to prevent stampedes at Kumbh, Hajj', 'news_article': 'IIT Madras researchers have developed an algorithm that can help manage crowds using minimal manpower, and prevent stampedes at crowded gatherings like Kumbh and Hajj. Researchers said that crowd movement resembles a fluid, and laws of fluid dynamics can be used to place personnel to check for disturbances. The computer simulation can also help design safe evacuation procedures, researchers added.', 'news_category': 'technology'}, {'news_headline': 'Russian hackers trying to influence EU elections: Microsoft', 'news_article': 'Microsoft has claimed that Russian hackers targeted European officials and non-profit organisations in contact with government officials to influence European Union elections. About 104 individuals across six countries were targeted from September-December 2018. The attacks originated from the same group which had allegedly meddled in the 2017 French presidential elections and 2016 US elections.', 'news_category': 'technology'}, {'news_headline': '18-yr-old US student held for making iOS app to sell drugs', 'news_article': \"Collin Howard, a California University Santa Cruz student, was charged for allegedly developing an iOS app called 'Banana Plug' to sell drugs. Undercover police officers used the app to purchase drugs including cocaine from the 18-year-old and arrested him on the fourth such setup. The app with tagline 'We have what you want' is still available on Apple's App Store. \", 'news_category': 'technology'}, {'news_headline': 'WhatsApp bug lets users bypass Face ID, Touch ID in iPhones', 'news_article': 'Facebook-owned messaging platform WhatsApp is facing a bug which allows users to bypass the iPhone\\'s biometric authentication, Touch ID and Face ID, if users share media to WhatsApp from other apps. The bug works if the \\'require authentication\\' is set to anything apart from \"Immediately\" for unlocking WhatsApp. The WhatsApp screen lock feature was added to iOS earlier this month.', 'news_category': 'technology'}, {'news_headline': \"Won't let tech firms abuse data, influence elections: Prasad\", 'news_article': 'IT Minister Ravi Shankar Prasad, in response to technology firms\\' opposition to draft social media rules, has said, \"A social media company shall not be allowed to abuse data of Indians to influence elections.\" Adding that India will hold consultations with technology firms, Prasad said, \"We\\'ll be fair...objective...but India’s sovereign right to frame rules and laws will always be there\".', 'news_category': 'technology'}, {'news_headline': 'Oculus headset users with audio issue to get free repair kit', 'news_article': 'Facebook-owned Oculus Co-founder Palmer Luckey has announced users with initial consumer version of Rift virtual reality headset facing audio issues will receive a free repair kit. He revealed long-term use of the headphones results in the issue. \"I\\'m doing this because I feel bad for people who bought a Rift from me and can’t use it properly anymore,\" Luckey said.', 'news_category': 'technology'}, {'news_headline': 'Huawei regularly tried to steal Apple trade secrets: Report', 'news_article': 'Huawei has regularly been involved in \"a pattern of dubious tactics\" to steal rival technology, particularly from Apple\\'s China-based suppliers, The Information reported. It claimed a Huawei engineer heading smartwatch project tried to gain Apple\\'s FDA-approved heart sensor technology. US Department of Justice had earlier alleged Huawei has an employee rewards program for stealing rivals\\' secrets.', 'news_category': 'technology'}, {'news_headline': 'Google fails to disclose mic on alarm system, criticised', 'news_article': 'Google has been criticised for failing to disclose existence of microphone on its Nest Secure home security alarm system, revealed only after Google decided to incorporate Assistant-based voice controls which use it. Google said it was \"never intended to be a secret\". \"It should\\'ve been listed in tech specs...that was an error on our part,\" Google said.', 'news_category': 'technology'}, {'news_headline': 'Robot Science Museum in South Korea to be built using robots', 'news_article': 'Turkish firm Melike Altinisik Architects has won the international competition to design the \"world\\'s first pioneer\" Robot Science Museum in Seoul, South Korea, which it claims will be built using robots. \"From design, manufacturing to construction and services, robots will be in charge,\" the firm said. \"RSM will start its first exhibition with its own construction by robots,\" it added.', 'news_category': 'technology'}, {'news_headline': 'London startup makes finger-worn controller for devices, AR', 'news_article': 'London-based hardware and software startup LITHO has created the first publicly available version of its finger-worn device that can control smart devices and \"spatial interactions\" in augmented reality (AR). The device connects to a smartphone or AR headset via Bluetooth Low Energy. The controller was unveiled before the British Royal family at the \\'Pitch@Palace\\' event last year.', 'news_category': 'technology'}, {'news_headline': 'CERN recreates 1st-ever web browser to surf like in 1990', 'news_article': \"The European Organisation for Nuclear Research (CERN) has rebuilt the first-ever web browser 'WorldWideWeb' to celebrate its 30th anniversary and allow present-day internet users to experience it. The original browser was created by Sir Tim Berners-Lee and launched in the year 1990. WorldWideWeb, the only web browser and editor of its time, was discontinued in 1994.\", 'news_category': 'technology'}, {'news_headline': 'Intel buys Hyderabad semiconductor startup to make GPU chips', 'news_article': 'American chipmaker Intel has acquihired Hyderabad-based semiconductor startup Ineda Systems for an undisclosed amount. Around 100 engineers from the startup will join Intel to \"help build a world-class discrete GPU (Graphics Processing Unit) business\". Founded in 2010, Ineda has raised around $60 million cumulatively from investors including Qualcomm Ventures, Samsung Catalyst Fund among others.', 'news_category': 'technology'}, {'news_headline': 'Nestlé, others pull YouTube ads over child porn controversy', 'news_article': 'Companies including Nestlé and \\'Fortnite\\' maker Epic Games have \"paused\" advertising on YouTube while Disney has also reportedly withheld its YouTube ads spending. This comes after video blogger Matt Watson alleged YouTube\\'s \\'recommended\\' algorithm let paedophiles share \"child pornography\" links via comments on videos that ran brand ads. YouTube said it took immediate action by deleting accounts.', 'news_category': 'technology'}, {'news_headline': \"Fake email tried to end 'Fortnite' dance lawsuit, says law firm\", 'news_article': 'The US law firm leading a lawsuit against online multiplayer game Fortnite\\'s maker for allegedly illegally copying dance moves claimed a fake email impersonating its lawyer was sent to undermine the case. The email sent to US Copyright Office read, \"I would like for our copyright claims to be terminated...because they\\'re false\". The office informed the lawyer about the email. ', 'news_category': 'technology'}, {'news_headline': \"PM Modi inaugurates supercomputer 'PARAM Shivay' at IIT-BHU\", 'news_article': \"Prime Minister Narendra Modi on Wednesday inaugurated a supercomputer named 'PARAM Shivay' of 833 teraflop capacity built for ₹32.5 crore, at IIT-Banaras Hindu University. The supercomputer was built under the ₹4,500-crore National Supercomputing Mission (NSM), under which 73 supercomputers would be installed. A postal stamp was also released by PM Modi on the centenary year of the institute.\", 'news_category': 'technology'}, {'news_headline': 'RBI warns installing AnyDesk app may cause phone data theft', 'news_article': \"\\nThe Reserve Bank of India has warned against the download of 'AnyDesk' app, saying it was being used by hackers to access phone data and facilitate financial theft. Once installed, AnyDesk reportedly generates a nine-digit code and seeks users' permission to access phone controls on inserting it. It then allegedly steals confidential data to process fraudulent transactions via payments apps.\", 'news_category': 'technology'}, {'news_headline': 'Audi tool lets drivers avoid red lights by suggesting speeds', 'news_article': \"Audi has made a Green Light Optimisation Speed Advisory tool that recommends speeds to drivers to help them avoid red traffic lights. The tool, which is an extension of the automaker's Traffic Light Information (TLI) technology, uses traffic signal data and vehicle position to calculate ideal speeds. Audi gets information wirelessly from traffic signals, upgraded to support such communications.\", 'news_category': 'technology'}]\n",
      "[{'news_headline': \"That's an old meme: Google on Pak flag in 'best toilet paper' search\", 'news_article': 'After reports claimed Google Search for \\'best toilet paper in the world\\' showed Pakistani flag\\'s images, Google said the search results were from an old 2017 meme and not actual search results. Google found no evidence of Google Images ranking the flag for search. \"Since these news stories were published, images from them are ranking for this query,\" it added.', 'news_category': 'technology'}, {'news_headline': \"Was fixed in 2017: Google on 'Maps fooled you' banner in Goa\", 'news_article': 'Google has responded after an image of a banner in Goa warning tourists that Google Maps was showing them the wrong route to Baga Beach went viral. The banner read, \"You are fooled by Google Maps. This road [doesn\\'t] take you to Baga beach\". Google India said, \"We...already fixed this in 2017. Looks like the banner needs fixing now.\" ', 'news_category': 'technology'}, {'news_headline': \"Tech giants aren't regulated, shouldn't be let into banking: Kotak\", 'news_article': 'Kotak Mahindra Bank Managing Director Uday Kotak has said technology majors like Google and Facebook should not be allowed to become banks as they don\\'t want to be regulated. Adding that banks should not be complacent in facing competition by young companies, Kotak said within a week of demonetisation, a \"relatively unknown\" company became common among masses, hinting at Paytm.', 'news_category': 'technology'}, {'news_headline': \"China unveils world's first female AI news anchor\", 'news_article': \"Chinese state-owned Xinhua news agency unveiled a female AI news anchor, which it claims to be the world's first. The anchor named 'Xin Xiaomeng' will reportedly make her debut in March during the Two Sessions political meet in China. Xinhua, which unveiled the world's first AI news anchor (male) in November last year, claims he has published over 3,400 reports.\", 'news_category': 'technology'}, {'news_headline': 'Google responds to bug showing navigation in Urdu in India', 'news_article': 'Google has responded after several Indian users reported that a bug on Google Maps was delivering navigation instructions to them in Urdu. \"Our team is aware of the issue and they are working on a fix. Appreciate your patience,\" Google told journalist Ketan Pratap. Pratap had claimed he had not changed any settings and the bug appeared randomly.', 'news_category': 'technology'}, {'news_headline': \"Kerala Police inducts India's first humanoid robot officer\", 'news_article': \"Kerala Chief Minister Pinarayi Vijayan inaugurated the induction event of India's first humanoid robot 'KP-BOT', gendered female, into the Kerala Police force at the rank of Sub-Inspector. The robot, equipped with facial recognition technology, will work at the police headquarters' front desk. It will perform functions including greeting visitors and guiding them to appropriate sections. \", 'news_category': 'technology'}, {'news_headline': 'FB, Google to pre-verify political ads ahead of LS elections', 'news_article': 'Facebook and Google told the Bombay High Court they will employ strict \"pre-verification processes\" for political ads on their platforms ahead of 2019 Lok Sabha elections. To post a political advertisement on Facebook, Indians will need to submit ID card, issued by a valid Indian authority and provide Indian residence proof, Facebook\\'s counsel said. Google has employed a similar process. ', 'news_category': 'technology'}, {'news_headline': 'IIT Madras develops algorithm to prevent stampedes at Kumbh, Hajj', 'news_article': 'IIT Madras researchers have developed an algorithm that can help manage crowds using minimal manpower, and prevent stampedes at crowded gatherings like Kumbh and Hajj. Researchers said that crowd movement resembles a fluid, and laws of fluid dynamics can be used to place personnel to check for disturbances. The computer simulation can also help design safe evacuation procedures, researchers added.', 'news_category': 'technology'}, {'news_headline': 'Russian hackers trying to influence EU elections: Microsoft', 'news_article': 'Microsoft has claimed that Russian hackers targeted European officials and non-profit organisations in contact with government officials to influence European Union elections. About 104 individuals across six countries were targeted from September-December 2018. The attacks originated from the same group which had allegedly meddled in the 2017 French presidential elections and 2016 US elections.', 'news_category': 'technology'}, {'news_headline': '18-yr-old US student held for making iOS app to sell drugs', 'news_article': \"Collin Howard, a California University Santa Cruz student, was charged for allegedly developing an iOS app called 'Banana Plug' to sell drugs. Undercover police officers used the app to purchase drugs including cocaine from the 18-year-old and arrested him on the fourth such setup. The app with tagline 'We have what you want' is still available on Apple's App Store. \", 'news_category': 'technology'}, {'news_headline': 'WhatsApp bug lets users bypass Face ID, Touch ID in iPhones', 'news_article': 'Facebook-owned messaging platform WhatsApp is facing a bug which allows users to bypass the iPhone\\'s biometric authentication, Touch ID and Face ID, if users share media to WhatsApp from other apps. The bug works if the \\'require authentication\\' is set to anything apart from \"Immediately\" for unlocking WhatsApp. The WhatsApp screen lock feature was added to iOS earlier this month.', 'news_category': 'technology'}, {'news_headline': \"Won't let tech firms abuse data, influence elections: Prasad\", 'news_article': 'IT Minister Ravi Shankar Prasad, in response to technology firms\\' opposition to draft social media rules, has said, \"A social media company shall not be allowed to abuse data of Indians to influence elections.\" Adding that India will hold consultations with technology firms, Prasad said, \"We\\'ll be fair...objective...but India’s sovereign right to frame rules and laws will always be there\".', 'news_category': 'technology'}, {'news_headline': 'Oculus headset users with audio issue to get free repair kit', 'news_article': 'Facebook-owned Oculus Co-founder Palmer Luckey has announced users with initial consumer version of Rift virtual reality headset facing audio issues will receive a free repair kit. He revealed long-term use of the headphones results in the issue. \"I\\'m doing this because I feel bad for people who bought a Rift from me and can’t use it properly anymore,\" Luckey said.', 'news_category': 'technology'}, {'news_headline': 'Huawei regularly tried to steal Apple trade secrets: Report', 'news_article': 'Huawei has regularly been involved in \"a pattern of dubious tactics\" to steal rival technology, particularly from Apple\\'s China-based suppliers, The Information reported. It claimed a Huawei engineer heading smartwatch project tried to gain Apple\\'s FDA-approved heart sensor technology. US Department of Justice had earlier alleged Huawei has an employee rewards program for stealing rivals\\' secrets.', 'news_category': 'technology'}, {'news_headline': 'Google fails to disclose mic on alarm system, criticised', 'news_article': 'Google has been criticised for failing to disclose existence of microphone on its Nest Secure home security alarm system, revealed only after Google decided to incorporate Assistant-based voice controls which use it. Google said it was \"never intended to be a secret\". \"It should\\'ve been listed in tech specs...that was an error on our part,\" Google said.', 'news_category': 'technology'}, {'news_headline': 'Robot Science Museum in South Korea to be built using robots', 'news_article': 'Turkish firm Melike Altinisik Architects has won the international competition to design the \"world\\'s first pioneer\" Robot Science Museum in Seoul, South Korea, which it claims will be built using robots. \"From design, manufacturing to construction and services, robots will be in charge,\" the firm said. \"RSM will start its first exhibition with its own construction by robots,\" it added.', 'news_category': 'technology'}, {'news_headline': 'London startup makes finger-worn controller for devices, AR', 'news_article': 'London-based hardware and software startup LITHO has created the first publicly available version of its finger-worn device that can control smart devices and \"spatial interactions\" in augmented reality (AR). The device connects to a smartphone or AR headset via Bluetooth Low Energy. The controller was unveiled before the British Royal family at the \\'Pitch@Palace\\' event last year.', 'news_category': 'technology'}, {'news_headline': 'CERN recreates 1st-ever web browser to surf like in 1990', 'news_article': \"The European Organisation for Nuclear Research (CERN) has rebuilt the first-ever web browser 'WorldWideWeb' to celebrate its 30th anniversary and allow present-day internet users to experience it. The original browser was created by Sir Tim Berners-Lee and launched in the year 1990. WorldWideWeb, the only web browser and editor of its time, was discontinued in 1994.\", 'news_category': 'technology'}, {'news_headline': 'Intel buys Hyderabad semiconductor startup to make GPU chips', 'news_article': 'American chipmaker Intel has acquihired Hyderabad-based semiconductor startup Ineda Systems for an undisclosed amount. Around 100 engineers from the startup will join Intel to \"help build a world-class discrete GPU (Graphics Processing Unit) business\". Founded in 2010, Ineda has raised around $60 million cumulatively from investors including Qualcomm Ventures, Samsung Catalyst Fund among others.', 'news_category': 'technology'}, {'news_headline': 'Nestlé, others pull YouTube ads over child porn controversy', 'news_article': 'Companies including Nestlé and \\'Fortnite\\' maker Epic Games have \"paused\" advertising on YouTube while Disney has also reportedly withheld its YouTube ads spending. This comes after video blogger Matt Watson alleged YouTube\\'s \\'recommended\\' algorithm let paedophiles share \"child pornography\" links via comments on videos that ran brand ads. YouTube said it took immediate action by deleting accounts.', 'news_category': 'technology'}, {'news_headline': \"Fake email tried to end 'Fortnite' dance lawsuit, says law firm\", 'news_article': 'The US law firm leading a lawsuit against online multiplayer game Fortnite\\'s maker for allegedly illegally copying dance moves claimed a fake email impersonating its lawyer was sent to undermine the case. The email sent to US Copyright Office read, \"I would like for our copyright claims to be terminated...because they\\'re false\". The office informed the lawyer about the email. ', 'news_category': 'technology'}, {'news_headline': \"PM Modi inaugurates supercomputer 'PARAM Shivay' at IIT-BHU\", 'news_article': \"Prime Minister Narendra Modi on Wednesday inaugurated a supercomputer named 'PARAM Shivay' of 833 teraflop capacity built for ₹32.5 crore, at IIT-Banaras Hindu University. The supercomputer was built under the ₹4,500-crore National Supercomputing Mission (NSM), under which 73 supercomputers would be installed. A postal stamp was also released by PM Modi on the centenary year of the institute.\", 'news_category': 'technology'}, {'news_headline': 'RBI warns installing AnyDesk app may cause phone data theft', 'news_article': \"\\nThe Reserve Bank of India has warned against the download of 'AnyDesk' app, saying it was being used by hackers to access phone data and facilitate financial theft. Once installed, AnyDesk reportedly generates a nine-digit code and seeks users' permission to access phone controls on inserting it. It then allegedly steals confidential data to process fraudulent transactions via payments apps.\", 'news_category': 'technology'}, {'news_headline': 'Audi tool lets drivers avoid red lights by suggesting speeds', 'news_article': \"Audi has made a Green Light Optimisation Speed Advisory tool that recommends speeds to drivers to help them avoid red traffic lights. The tool, which is an extension of the automaker's Traffic Light Information (TLI) technology, uses traffic signal data and vehicle position to calculate ideal speeds. Audi gets information wirelessly from traffic signals, upgraded to support such communications.\", 'news_category': 'technology'}, {'news_headline': 'Cheteshwar Pujara slams his first ever T20 hundred off 61 balls', 'news_article': 'Cheteshwar Pujara slammed his first ever T20 hundred off 61 balls, achieving the feat while playing for Saurashtra against Railways in the Syed Mushtaq Ali Trophy on Thursday. The 31-year-old hit 14 fours and a six during his unbeaten knock of 100 runs. Prior to this, Pujara had played 50 T20 innings, hitting six fifties.', 'news_category': 'sports'}, {'news_headline': 'SC appoints its former judge DK Jain as BCCI Ombudsman', 'news_article': \"The Supreme Court on Thursday appointed its former judge Justice DK Jain as the first Ombudsman of the BCCI to resolve disputes under the cricket board's new constitution. Justice Jain has been asked to take charge immediately. He will decide quantum of punishments for KL Rahul and Hardik Pandya over their comments on women in 'Koffee with Karan'. \", 'news_category': 'sports'}, {'news_headline': 'India have the right to pull out of World Cup match vs Pak: Akhtar', 'news_article': 'Ex-Pakistan pacer Shoaib Akhtar has said India have the right to pull out of 2019 World Cup match against Pakistan scheduled to take place on June 16. \"Their country was attacked...You cannot argue on that,\" he added. \"We strongly condemn...loss of lives. But...we\\'ll stand by our Prime Minister Imran Khan\\'s statement without having a second thought,\" he further said.', 'news_category': 'sports'}, {'news_headline': 'Banning cricket with Pakistan a justified demand: Union Minister', 'news_article': 'Union Minister Ravi Shankar Prasad has said that banning cricket with Pakistan is a justified demand following the Pulwama terror attack, in which 40 CRPF jawans were martyred. \"It\\'s time to say no...Pakistan Prime Minister Imran Khan had no word of condolence for those who were martyred,\" he added. \"Things are not normal,\" he further said.', 'news_category': 'sports'}, {'news_headline': \"Even if we don't play 2019 World Cup, it won’t matter: Harbhajan\", 'news_article': 'Cricketer Harbhajan Singh has said India shouldn\\'t play cricket against Pakistan at all after Pulwama attack, wherein 40 CRPF jawans were martyred. \"World Cup is very small when it comes to the country. Even if we don\\'t play World Cup...it won\\'t matter,\" he added. \"It\\'s not right to keep playing sports with Pakistan when our soldiers are dying,\" he stated.', 'news_category': 'sports'}, {'news_headline': \"India could be banned if they don't play Pak in WC: Chetan Chauhan\", 'news_article': 'Ex-India opener and UP Sports Minister Chetan Chauhan has said India would have to face consequences if they pull out of the World Cup match against Pakistan. \"We could be fined or banned...I think government and BCCI will consider this,\" he added. He further said that if India forfeit the match, it\\'d be detrimental for the team in World Cup. ', 'news_category': 'sports'}, {'news_headline': 'Photos of Imran Khan, other Pak cricketers removed from Chinnaswamy', 'news_article': \"In a protest against Pulwama attack, Karnataka State Cricket Association removed the photographs of Pakistani cricketers, including Imran Khan, from Bengaluru's Chinnaswamy Stadium. Earlier, pictures of Pakistani cricketers were removed from stadiums in Mohali, Jaipur and Dharamshala. Pakistan-based Jaish-e-Mohammed claimed the responsibility for the attack, in which 40 CRPF jawans were martyred. \", 'news_category': 'sports'}, {'news_headline': 'Gayle 1st to hit 100 sixes vs one opponent in international cricket', 'news_article': 'Chris Gayle slammed 12 sixes against England in first ODI on Wednesday to take his tally of international sixes against them to 100. With this, he became the first-ever batsman to smash 100 sixes against one opponent in international cricket. The 39-year-old has hit 57 sixes in 31 ODIs, 28 in 11 T20Is and 15 in 20 Tests against England.', 'news_category': 'sports'}, {'news_headline': 'WI slam 23 sixes, set world record for most 6s by a team in an ODI', 'news_article': 'Windies smashed a total of 23 sixes in the first ODI against England on Wednesday to set the world record for hitting most sixes by a team in an ODI. The previous record (22 sixes) was set by New Zealand against Windies in 2014. This is the fourth instance of a team slamming at least 20 sixes in an ODI.', 'news_category': 'sports'}, {'news_headline': 'We received 4 lakh ticket applications for India-Pak WC match: ICC', 'news_article': 'ICC has received over four lakh applications for tickets of India-Pakistan 2019 World Cup match which is scheduled to take place on June 16 in Manchester, tournament managing director Steve Elworthy revealed. \"The stadium (Old Trafford) only holds 25,000 people. So there\\'re a number of disappointed people,\" he added. He further said they received 2.6-2.7 lakh applications for the final. ', 'news_category': 'sports'}, {'news_headline': 'Barça held to 0-0 draw by Lyon in CL, their 4th draw in 5 matches', 'news_article': 'Barcelona were held to a scoreless draw by Lyon in the Champions League Round of 16 first leg on Tuesday. Barcelona, who failed to score despite 25 shots in the match, have been held to a draw in four of their last five matches across competitions. Elsewhere, Liverpool and Bayern Munich also played out a goalless draw. ', 'news_category': 'sports'}, {'news_headline': \"SC asks CoA's Rai and Edulji to not go public over differences\", 'news_article': 'The Supreme Court today pulled up CoA members Vinod Rai and Diana Edulji for their public stand-offs. \"We\\'ve heard in newspaper reports that some sparring is going on between CoA members...Nobody should bring it in the public domain,\" the bench comprising Justices SA Bobde and AM Sapre said. The court added a third member will be added to the CoA. ', 'news_category': 'sports'}, {'news_headline': 'Chris Gayle scores 10 off 34 balls, completes 100 off 100 balls', 'news_article': \"Windies' opener Chris Gayle, who scored 10 runs off 34 balls, reached his hundred off just 100 balls in the first ODI against England on Wednesday. The 39-year-old has smashed nine sixes and three fours in the match so far. Gayle, who has slammed most ODI hundreds by a Windies player, has now hit 24 tons in the format.\", 'news_category': 'sports'}, {'news_headline': 'BCCI reserves right regarding participation in World Cup: Treasurer', 'news_article': 'BCCI Treasurer Anirudh Chaudhry has said that the BCCI hasn\\'t signed the Members Participation Agreement (MPA) yet and that gave the board the right to decide on whether India will play against Pakistan in the World Cup. \"BCCI reserves all its rights...regarding its participation in any other multi-nation tournament or games not covered by the MPA,\" he added.', 'news_category': 'sports'}, {'news_headline': 'Chris Gayle smashes 10+ sixes in an ODI innings for record 3rd time', 'news_article': 'Windies opener Chris Gayle smashed 12 sixes in his 135-run knock in the first ODI against England on Wednesday, becoming the first batsman to slam 10-plus sixes in an ODI on three different instances. The 39-year-old had smashed 11 sixes against UAE in March last year and had slammed 16 sixes against Zimbabwe in a World Cup match in 2015.', 'news_category': 'sports'}, {'news_headline': 'Mass crash damages 21 cars during race, drivers escape uninjured', 'news_article': \"As many as 21 cars were damaged in a mass crash during the Daytona 500 NASCAR motor race. The race had 10 of its 200 laps left when a racer turned his opponent's car, which slammed into the wall and began to spin. The 21-car accident led to sparks flying and debris littering the track, however, all drivers escaped uninjured. \", 'news_category': 'sports'}, {'news_headline': \"I spent two days at home crying: Brazil's Neymar on latest injury\", 'news_article': 'World’s most expensive footballer Neymar has revealed he spent two days at home crying after injuring his foot for the second time in a year. \"The first time I hurt myself I said, \\'It has to be fixed as quickly as possible\\'. I wasn\\'t sad,\" he said. \"This time I had a tough time getting over it,\" the Brazilian added.', 'news_category': 'sports'}, {'news_headline': '2015 WC humiliation best thing to happen to English cricket: Swann', 'news_article': 'Ex-England off-spinner Graeme Swann has said being humiliated at 2015 World Cup was the best thing to happen to English cricket. \"We were slaughtered by teams we should have been equal to,\" he added. \"Eoin Morgan has taken the team by the scruff of the neck and we\\'ve been exceptional ever since,\" he further said.', 'news_category': 'sports'}, {'news_headline': 'Not just sports, India should cut all ties with Pakistan: Ganguly', 'news_article': 'In the wake of Pulwama attack, ex-India captain Sourav Ganguly said that India should not only just stop playing cricket, hockey, or football with Pakistan but should cut all ties with them. Adding that India should send a strong message, Ganguly said, \"I feel if India doesn\\'t play a match in the World Cup, it won\\'t be an issue.\"', 'news_category': 'sports'}, {'news_headline': \"What mystery? Sab bakwas hai: Kuldeep on 'mystery bowler' tag\", 'news_article': 'Talking about being called a mystery spinner, India Chinaman bowler Kuldeep Yadav said, \"What mystery? Sab bakwas hai (Everything is rubbish).\" \"I\\'m using same weapons like Ash bhai (Ravichandran Ashwin)— flight, drip, drift and turn— only that I\\'m a wrist spinner and he\\'s a finger spinner,\" he added. Notably, the 24-year-old has taken 77 wickets in 39 ODIs so far.', 'news_category': 'sports'}, {'news_headline': \"Gayle breaks Afridi's record of most sixes in international cricket\", 'news_article': \"Windies' opener Chris Gayle smashed his 477th six in international cricket during the first ODI against England today, breaking ex-Pakistan captain Shahid Afridi's record of hitting most sixes in international cricket. Gayle achieved the feat in his 514th international innings. The 39-year-old has slammed 103 sixes in T20Is, 276 in ODIs and 98 in Test cricket.\", 'news_category': 'sports'}, {'news_headline': 'England register ODI cricket history’s 3rd highest successful chase', 'news_article': 'England chased down the target of 361 against Windies in the first ODI on Wednesday to register the overall third highest successful ODI run chase and their highest successful ODI run chase. The match witnessed Windies smash 23 sixes, the most by a team in an ODI. England opener Jason Roy was named Man of the Match for his 123(85).', 'news_category': 'sports'}, {'news_headline': 'Pandya ruled out of T20I, ODI series vs Australia due to back issue', 'news_article': \"Hardik Pandya has been ruled out of India's upcoming T20I and ODI series against Australia due to lower back stiffness, the BCCI said. The 25-year-old all-rounder will undergo strength and conditioning training at the National Cricket Academy in Bengaluru from next week. All-rounder Ravindra Jadeja will replace Pandya in ODI squad, while no replacements were named for T20I squad.\", 'news_category': 'sports'}, {'news_headline': 'Shreyas Iyer slams 55-ball 147, highest ever T20 score by an Indian', 'news_article': \"Mumbai's Shreyas Iyer smashed 147 runs off 55 balls against Sikkim in Syed Mushtaq Ali Trophy on Thursday to register the highest ever score by an Indian in T20 cricket. The 24-year-old slammed 15 sixes and seven fours during his knock. The previous record was set by Rishabh Pant, who slammed 128*(63) for Delhi Daredevils against SunRisers Hyderabad last year. \", 'news_category': 'sports'}, {'news_headline': 'Supreme Court appoints Lt General Ravi Thodge as 3rd member of CoA', 'news_article': \"The Supreme Court today appointed Indian Army's former Master-General of Ordnance (MGO), Lt General Ravi Thodge as the third member of the Vinod Rai-led Committee of Administrators, which is overseeing BCCI's affairs. CoA initially had four members but after the resignation of historian Ramachandra Guha and National Stock Exchange CEO Vikram Limaye, only two members were left in CoA. \", 'news_category': 'sports'}]\n",
      "[{'news_headline': \"That's an old meme: Google on Pak flag in 'best toilet paper' search\", 'news_article': 'After reports claimed Google Search for \\'best toilet paper in the world\\' showed Pakistani flag\\'s images, Google said the search results were from an old 2017 meme and not actual search results. Google found no evidence of Google Images ranking the flag for search. \"Since these news stories were published, images from them are ranking for this query,\" it added.', 'news_category': 'technology'}, {'news_headline': \"Was fixed in 2017: Google on 'Maps fooled you' banner in Goa\", 'news_article': 'Google has responded after an image of a banner in Goa warning tourists that Google Maps was showing them the wrong route to Baga Beach went viral. The banner read, \"You are fooled by Google Maps. This road [doesn\\'t] take you to Baga beach\". Google India said, \"We...already fixed this in 2017. Looks like the banner needs fixing now.\" ', 'news_category': 'technology'}, {'news_headline': \"Tech giants aren't regulated, shouldn't be let into banking: Kotak\", 'news_article': 'Kotak Mahindra Bank Managing Director Uday Kotak has said technology majors like Google and Facebook should not be allowed to become banks as they don\\'t want to be regulated. Adding that banks should not be complacent in facing competition by young companies, Kotak said within a week of demonetisation, a \"relatively unknown\" company became common among masses, hinting at Paytm.', 'news_category': 'technology'}, {'news_headline': \"China unveils world's first female AI news anchor\", 'news_article': \"Chinese state-owned Xinhua news agency unveiled a female AI news anchor, which it claims to be the world's first. The anchor named 'Xin Xiaomeng' will reportedly make her debut in March during the Two Sessions political meet in China. Xinhua, which unveiled the world's first AI news anchor (male) in November last year, claims he has published over 3,400 reports.\", 'news_category': 'technology'}, {'news_headline': 'Google responds to bug showing navigation in Urdu in India', 'news_article': 'Google has responded after several Indian users reported that a bug on Google Maps was delivering navigation instructions to them in Urdu. \"Our team is aware of the issue and they are working on a fix. Appreciate your patience,\" Google told journalist Ketan Pratap. Pratap had claimed he had not changed any settings and the bug appeared randomly.', 'news_category': 'technology'}, {'news_headline': \"Kerala Police inducts India's first humanoid robot officer\", 'news_article': \"Kerala Chief Minister Pinarayi Vijayan inaugurated the induction event of India's first humanoid robot 'KP-BOT', gendered female, into the Kerala Police force at the rank of Sub-Inspector. The robot, equipped with facial recognition technology, will work at the police headquarters' front desk. It will perform functions including greeting visitors and guiding them to appropriate sections. \", 'news_category': 'technology'}, {'news_headline': 'FB, Google to pre-verify political ads ahead of LS elections', 'news_article': 'Facebook and Google told the Bombay High Court they will employ strict \"pre-verification processes\" for political ads on their platforms ahead of 2019 Lok Sabha elections. To post a political advertisement on Facebook, Indians will need to submit ID card, issued by a valid Indian authority and provide Indian residence proof, Facebook\\'s counsel said. Google has employed a similar process. ', 'news_category': 'technology'}, {'news_headline': 'IIT Madras develops algorithm to prevent stampedes at Kumbh, Hajj', 'news_article': 'IIT Madras researchers have developed an algorithm that can help manage crowds using minimal manpower, and prevent stampedes at crowded gatherings like Kumbh and Hajj. Researchers said that crowd movement resembles a fluid, and laws of fluid dynamics can be used to place personnel to check for disturbances. The computer simulation can also help design safe evacuation procedures, researchers added.', 'news_category': 'technology'}, {'news_headline': 'Russian hackers trying to influence EU elections: Microsoft', 'news_article': 'Microsoft has claimed that Russian hackers targeted European officials and non-profit organisations in contact with government officials to influence European Union elections. About 104 individuals across six countries were targeted from September-December 2018. The attacks originated from the same group which had allegedly meddled in the 2017 French presidential elections and 2016 US elections.', 'news_category': 'technology'}, {'news_headline': '18-yr-old US student held for making iOS app to sell drugs', 'news_article': \"Collin Howard, a California University Santa Cruz student, was charged for allegedly developing an iOS app called 'Banana Plug' to sell drugs. Undercover police officers used the app to purchase drugs including cocaine from the 18-year-old and arrested him on the fourth such setup. The app with tagline 'We have what you want' is still available on Apple's App Store. \", 'news_category': 'technology'}, {'news_headline': 'WhatsApp bug lets users bypass Face ID, Touch ID in iPhones', 'news_article': 'Facebook-owned messaging platform WhatsApp is facing a bug which allows users to bypass the iPhone\\'s biometric authentication, Touch ID and Face ID, if users share media to WhatsApp from other apps. The bug works if the \\'require authentication\\' is set to anything apart from \"Immediately\" for unlocking WhatsApp. The WhatsApp screen lock feature was added to iOS earlier this month.', 'news_category': 'technology'}, {'news_headline': \"Won't let tech firms abuse data, influence elections: Prasad\", 'news_article': 'IT Minister Ravi Shankar Prasad, in response to technology firms\\' opposition to draft social media rules, has said, \"A social media company shall not be allowed to abuse data of Indians to influence elections.\" Adding that India will hold consultations with technology firms, Prasad said, \"We\\'ll be fair...objective...but India’s sovereign right to frame rules and laws will always be there\".', 'news_category': 'technology'}, {'news_headline': 'Oculus headset users with audio issue to get free repair kit', 'news_article': 'Facebook-owned Oculus Co-founder Palmer Luckey has announced users with initial consumer version of Rift virtual reality headset facing audio issues will receive a free repair kit. He revealed long-term use of the headphones results in the issue. \"I\\'m doing this because I feel bad for people who bought a Rift from me and can’t use it properly anymore,\" Luckey said.', 'news_category': 'technology'}, {'news_headline': 'Huawei regularly tried to steal Apple trade secrets: Report', 'news_article': 'Huawei has regularly been involved in \"a pattern of dubious tactics\" to steal rival technology, particularly from Apple\\'s China-based suppliers, The Information reported. It claimed a Huawei engineer heading smartwatch project tried to gain Apple\\'s FDA-approved heart sensor technology. US Department of Justice had earlier alleged Huawei has an employee rewards program for stealing rivals\\' secrets.', 'news_category': 'technology'}, {'news_headline': 'Google fails to disclose mic on alarm system, criticised', 'news_article': 'Google has been criticised for failing to disclose existence of microphone on its Nest Secure home security alarm system, revealed only after Google decided to incorporate Assistant-based voice controls which use it. Google said it was \"never intended to be a secret\". \"It should\\'ve been listed in tech specs...that was an error on our part,\" Google said.', 'news_category': 'technology'}, {'news_headline': 'Robot Science Museum in South Korea to be built using robots', 'news_article': 'Turkish firm Melike Altinisik Architects has won the international competition to design the \"world\\'s first pioneer\" Robot Science Museum in Seoul, South Korea, which it claims will be built using robots. \"From design, manufacturing to construction and services, robots will be in charge,\" the firm said. \"RSM will start its first exhibition with its own construction by robots,\" it added.', 'news_category': 'technology'}, {'news_headline': 'London startup makes finger-worn controller for devices, AR', 'news_article': 'London-based hardware and software startup LITHO has created the first publicly available version of its finger-worn device that can control smart devices and \"spatial interactions\" in augmented reality (AR). The device connects to a smartphone or AR headset via Bluetooth Low Energy. The controller was unveiled before the British Royal family at the \\'Pitch@Palace\\' event last year.', 'news_category': 'technology'}, {'news_headline': 'CERN recreates 1st-ever web browser to surf like in 1990', 'news_article': \"The European Organisation for Nuclear Research (CERN) has rebuilt the first-ever web browser 'WorldWideWeb' to celebrate its 30th anniversary and allow present-day internet users to experience it. The original browser was created by Sir Tim Berners-Lee and launched in the year 1990. WorldWideWeb, the only web browser and editor of its time, was discontinued in 1994.\", 'news_category': 'technology'}, {'news_headline': 'Intel buys Hyderabad semiconductor startup to make GPU chips', 'news_article': 'American chipmaker Intel has acquihired Hyderabad-based semiconductor startup Ineda Systems for an undisclosed amount. Around 100 engineers from the startup will join Intel to \"help build a world-class discrete GPU (Graphics Processing Unit) business\". Founded in 2010, Ineda has raised around $60 million cumulatively from investors including Qualcomm Ventures, Samsung Catalyst Fund among others.', 'news_category': 'technology'}, {'news_headline': 'Nestlé, others pull YouTube ads over child porn controversy', 'news_article': 'Companies including Nestlé and \\'Fortnite\\' maker Epic Games have \"paused\" advertising on YouTube while Disney has also reportedly withheld its YouTube ads spending. This comes after video blogger Matt Watson alleged YouTube\\'s \\'recommended\\' algorithm let paedophiles share \"child pornography\" links via comments on videos that ran brand ads. YouTube said it took immediate action by deleting accounts.', 'news_category': 'technology'}, {'news_headline': \"Fake email tried to end 'Fortnite' dance lawsuit, says law firm\", 'news_article': 'The US law firm leading a lawsuit against online multiplayer game Fortnite\\'s maker for allegedly illegally copying dance moves claimed a fake email impersonating its lawyer was sent to undermine the case. The email sent to US Copyright Office read, \"I would like for our copyright claims to be terminated...because they\\'re false\". The office informed the lawyer about the email. ', 'news_category': 'technology'}, {'news_headline': \"PM Modi inaugurates supercomputer 'PARAM Shivay' at IIT-BHU\", 'news_article': \"Prime Minister Narendra Modi on Wednesday inaugurated a supercomputer named 'PARAM Shivay' of 833 teraflop capacity built for ₹32.5 crore, at IIT-Banaras Hindu University. The supercomputer was built under the ₹4,500-crore National Supercomputing Mission (NSM), under which 73 supercomputers would be installed. A postal stamp was also released by PM Modi on the centenary year of the institute.\", 'news_category': 'technology'}, {'news_headline': 'RBI warns installing AnyDesk app may cause phone data theft', 'news_article': \"\\nThe Reserve Bank of India has warned against the download of 'AnyDesk' app, saying it was being used by hackers to access phone data and facilitate financial theft. Once installed, AnyDesk reportedly generates a nine-digit code and seeks users' permission to access phone controls on inserting it. It then allegedly steals confidential data to process fraudulent transactions via payments apps.\", 'news_category': 'technology'}, {'news_headline': 'Audi tool lets drivers avoid red lights by suggesting speeds', 'news_article': \"Audi has made a Green Light Optimisation Speed Advisory tool that recommends speeds to drivers to help them avoid red traffic lights. The tool, which is an extension of the automaker's Traffic Light Information (TLI) technology, uses traffic signal data and vehicle position to calculate ideal speeds. Audi gets information wirelessly from traffic signals, upgraded to support such communications.\", 'news_category': 'technology'}, {'news_headline': 'Cheteshwar Pujara slams his first ever T20 hundred off 61 balls', 'news_article': 'Cheteshwar Pujara slammed his first ever T20 hundred off 61 balls, achieving the feat while playing for Saurashtra against Railways in the Syed Mushtaq Ali Trophy on Thursday. The 31-year-old hit 14 fours and a six during his unbeaten knock of 100 runs. Prior to this, Pujara had played 50 T20 innings, hitting six fifties.', 'news_category': 'sports'}, {'news_headline': 'SC appoints its former judge DK Jain as BCCI Ombudsman', 'news_article': \"The Supreme Court on Thursday appointed its former judge Justice DK Jain as the first Ombudsman of the BCCI to resolve disputes under the cricket board's new constitution. Justice Jain has been asked to take charge immediately. He will decide quantum of punishments for KL Rahul and Hardik Pandya over their comments on women in 'Koffee with Karan'. \", 'news_category': 'sports'}, {'news_headline': 'India have the right to pull out of World Cup match vs Pak: Akhtar', 'news_article': 'Ex-Pakistan pacer Shoaib Akhtar has said India have the right to pull out of 2019 World Cup match against Pakistan scheduled to take place on June 16. \"Their country was attacked...You cannot argue on that,\" he added. \"We strongly condemn...loss of lives. But...we\\'ll stand by our Prime Minister Imran Khan\\'s statement without having a second thought,\" he further said.', 'news_category': 'sports'}, {'news_headline': 'Banning cricket with Pakistan a justified demand: Union Minister', 'news_article': 'Union Minister Ravi Shankar Prasad has said that banning cricket with Pakistan is a justified demand following the Pulwama terror attack, in which 40 CRPF jawans were martyred. \"It\\'s time to say no...Pakistan Prime Minister Imran Khan had no word of condolence for those who were martyred,\" he added. \"Things are not normal,\" he further said.', 'news_category': 'sports'}, {'news_headline': \"Even if we don't play 2019 World Cup, it won’t matter: Harbhajan\", 'news_article': 'Cricketer Harbhajan Singh has said India shouldn\\'t play cricket against Pakistan at all after Pulwama attack, wherein 40 CRPF jawans were martyred. \"World Cup is very small when it comes to the country. Even if we don\\'t play World Cup...it won\\'t matter,\" he added. \"It\\'s not right to keep playing sports with Pakistan when our soldiers are dying,\" he stated.', 'news_category': 'sports'}, {'news_headline': \"India could be banned if they don't play Pak in WC: Chetan Chauhan\", 'news_article': 'Ex-India opener and UP Sports Minister Chetan Chauhan has said India would have to face consequences if they pull out of the World Cup match against Pakistan. \"We could be fined or banned...I think government and BCCI will consider this,\" he added. He further said that if India forfeit the match, it\\'d be detrimental for the team in World Cup. ', 'news_category': 'sports'}, {'news_headline': 'Photos of Imran Khan, other Pak cricketers removed from Chinnaswamy', 'news_article': \"In a protest against Pulwama attack, Karnataka State Cricket Association removed the photographs of Pakistani cricketers, including Imran Khan, from Bengaluru's Chinnaswamy Stadium. Earlier, pictures of Pakistani cricketers were removed from stadiums in Mohali, Jaipur and Dharamshala. Pakistan-based Jaish-e-Mohammed claimed the responsibility for the attack, in which 40 CRPF jawans were martyred. \", 'news_category': 'sports'}, {'news_headline': 'Gayle 1st to hit 100 sixes vs one opponent in international cricket', 'news_article': 'Chris Gayle slammed 12 sixes against England in first ODI on Wednesday to take his tally of international sixes against them to 100. With this, he became the first-ever batsman to smash 100 sixes against one opponent in international cricket. The 39-year-old has hit 57 sixes in 31 ODIs, 28 in 11 T20Is and 15 in 20 Tests against England.', 'news_category': 'sports'}, {'news_headline': 'WI slam 23 sixes, set world record for most 6s by a team in an ODI', 'news_article': 'Windies smashed a total of 23 sixes in the first ODI against England on Wednesday to set the world record for hitting most sixes by a team in an ODI. The previous record (22 sixes) was set by New Zealand against Windies in 2014. This is the fourth instance of a team slamming at least 20 sixes in an ODI.', 'news_category': 'sports'}, {'news_headline': 'We received 4 lakh ticket applications for India-Pak WC match: ICC', 'news_article': 'ICC has received over four lakh applications for tickets of India-Pakistan 2019 World Cup match which is scheduled to take place on June 16 in Manchester, tournament managing director Steve Elworthy revealed. \"The stadium (Old Trafford) only holds 25,000 people. So there\\'re a number of disappointed people,\" he added. He further said they received 2.6-2.7 lakh applications for the final. ', 'news_category': 'sports'}, {'news_headline': 'Barça held to 0-0 draw by Lyon in CL, their 4th draw in 5 matches', 'news_article': 'Barcelona were held to a scoreless draw by Lyon in the Champions League Round of 16 first leg on Tuesday. Barcelona, who failed to score despite 25 shots in the match, have been held to a draw in four of their last five matches across competitions. Elsewhere, Liverpool and Bayern Munich also played out a goalless draw. ', 'news_category': 'sports'}, {'news_headline': \"SC asks CoA's Rai and Edulji to not go public over differences\", 'news_article': 'The Supreme Court today pulled up CoA members Vinod Rai and Diana Edulji for their public stand-offs. \"We\\'ve heard in newspaper reports that some sparring is going on between CoA members...Nobody should bring it in the public domain,\" the bench comprising Justices SA Bobde and AM Sapre said. The court added a third member will be added to the CoA. ', 'news_category': 'sports'}, {'news_headline': 'Chris Gayle scores 10 off 34 balls, completes 100 off 100 balls', 'news_article': \"Windies' opener Chris Gayle, who scored 10 runs off 34 balls, reached his hundred off just 100 balls in the first ODI against England on Wednesday. The 39-year-old has smashed nine sixes and three fours in the match so far. Gayle, who has slammed most ODI hundreds by a Windies player, has now hit 24 tons in the format.\", 'news_category': 'sports'}, {'news_headline': 'BCCI reserves right regarding participation in World Cup: Treasurer', 'news_article': 'BCCI Treasurer Anirudh Chaudhry has said that the BCCI hasn\\'t signed the Members Participation Agreement (MPA) yet and that gave the board the right to decide on whether India will play against Pakistan in the World Cup. \"BCCI reserves all its rights...regarding its participation in any other multi-nation tournament or games not covered by the MPA,\" he added.', 'news_category': 'sports'}, {'news_headline': 'Chris Gayle smashes 10+ sixes in an ODI innings for record 3rd time', 'news_article': 'Windies opener Chris Gayle smashed 12 sixes in his 135-run knock in the first ODI against England on Wednesday, becoming the first batsman to slam 10-plus sixes in an ODI on three different instances. The 39-year-old had smashed 11 sixes against UAE in March last year and had slammed 16 sixes against Zimbabwe in a World Cup match in 2015.', 'news_category': 'sports'}, {'news_headline': 'Mass crash damages 21 cars during race, drivers escape uninjured', 'news_article': \"As many as 21 cars were damaged in a mass crash during the Daytona 500 NASCAR motor race. The race had 10 of its 200 laps left when a racer turned his opponent's car, which slammed into the wall and began to spin. The 21-car accident led to sparks flying and debris littering the track, however, all drivers escaped uninjured. \", 'news_category': 'sports'}, {'news_headline': \"I spent two days at home crying: Brazil's Neymar on latest injury\", 'news_article': 'World’s most expensive footballer Neymar has revealed he spent two days at home crying after injuring his foot for the second time in a year. \"The first time I hurt myself I said, \\'It has to be fixed as quickly as possible\\'. I wasn\\'t sad,\" he said. \"This time I had a tough time getting over it,\" the Brazilian added.', 'news_category': 'sports'}, {'news_headline': '2015 WC humiliation best thing to happen to English cricket: Swann', 'news_article': 'Ex-England off-spinner Graeme Swann has said being humiliated at 2015 World Cup was the best thing to happen to English cricket. \"We were slaughtered by teams we should have been equal to,\" he added. \"Eoin Morgan has taken the team by the scruff of the neck and we\\'ve been exceptional ever since,\" he further said.', 'news_category': 'sports'}, {'news_headline': 'Not just sports, India should cut all ties with Pakistan: Ganguly', 'news_article': 'In the wake of Pulwama attack, ex-India captain Sourav Ganguly said that India should not only just stop playing cricket, hockey, or football with Pakistan but should cut all ties with them. Adding that India should send a strong message, Ganguly said, \"I feel if India doesn\\'t play a match in the World Cup, it won\\'t be an issue.\"', 'news_category': 'sports'}, {'news_headline': \"What mystery? Sab bakwas hai: Kuldeep on 'mystery bowler' tag\", 'news_article': 'Talking about being called a mystery spinner, India Chinaman bowler Kuldeep Yadav said, \"What mystery? Sab bakwas hai (Everything is rubbish).\" \"I\\'m using same weapons like Ash bhai (Ravichandran Ashwin)— flight, drip, drift and turn— only that I\\'m a wrist spinner and he\\'s a finger spinner,\" he added. Notably, the 24-year-old has taken 77 wickets in 39 ODIs so far.', 'news_category': 'sports'}, {'news_headline': \"Gayle breaks Afridi's record of most sixes in international cricket\", 'news_article': \"Windies' opener Chris Gayle smashed his 477th six in international cricket during the first ODI against England today, breaking ex-Pakistan captain Shahid Afridi's record of hitting most sixes in international cricket. Gayle achieved the feat in his 514th international innings. The 39-year-old has slammed 103 sixes in T20Is, 276 in ODIs and 98 in Test cricket.\", 'news_category': 'sports'}, {'news_headline': 'England register ODI cricket history’s 3rd highest successful chase', 'news_article': 'England chased down the target of 361 against Windies in the first ODI on Wednesday to register the overall third highest successful ODI run chase and their highest successful ODI run chase. The match witnessed Windies smash 23 sixes, the most by a team in an ODI. England opener Jason Roy was named Man of the Match for his 123(85).', 'news_category': 'sports'}, {'news_headline': 'Pandya ruled out of T20I, ODI series vs Australia due to back issue', 'news_article': \"Hardik Pandya has been ruled out of India's upcoming T20I and ODI series against Australia due to lower back stiffness, the BCCI said. The 25-year-old all-rounder will undergo strength and conditioning training at the National Cricket Academy in Bengaluru from next week. All-rounder Ravindra Jadeja will replace Pandya in ODI squad, while no replacements were named for T20I squad.\", 'news_category': 'sports'}, {'news_headline': 'Shreyas Iyer slams 55-ball 147, highest ever T20 score by an Indian', 'news_article': \"Mumbai's Shreyas Iyer smashed 147 runs off 55 balls against Sikkim in Syed Mushtaq Ali Trophy on Thursday to register the highest ever score by an Indian in T20 cricket. The 24-year-old slammed 15 sixes and seven fours during his knock. The previous record was set by Rishabh Pant, who slammed 128*(63) for Delhi Daredevils against SunRisers Hyderabad last year. \", 'news_category': 'sports'}, {'news_headline': 'Supreme Court appoints Lt General Ravi Thodge as 3rd member of CoA', 'news_article': \"The Supreme Court today appointed Indian Army's former Master-General of Ordnance (MGO), Lt General Ravi Thodge as the third member of the Vinod Rai-led Committee of Administrators, which is overseeing BCCI's affairs. CoA initially had four members but after the resignation of historian Ramachandra Guha and National Stock Exchange CEO Vikram Limaye, only two members were left in CoA. \", 'news_category': 'sports'}, {'news_headline': 'Pak bans Mumbai attack mastermind Hafiz Saeed-led Jamaat-ud-Dawa', 'news_article': \"Days after the Pulwama terror attack, Pakistan Prime Minister Imran Khan on Thursday reinstated the ban on 2008 Mumbai attack mastermind Hafiz Saeed-led organisation Jamaat-ud-Dawa and its charity wing Falah-e-Insaniat Foundation. The decision was taken at the National Security Committee (NSC) meeting at the Pakistan PM's office. Earlier, the two outfits were kept on the watchlist of Pakistan's Interior Ministry.\", 'news_category': 'world'}, {'news_headline': 'After $20 billion in Pakistan, Saudi to invest $100 billion in India', 'news_article': 'The Ministry of External Affairs (MEA) said Saudi Arabia will invest $100 billion in India and called it \"a huge vote of confidence in the Indian economy.\" \"PM Narendra Modi welcomed Saudi Crown Prince Mohammed bin Salman\\'s announcement to invest in areas like energy, refining and infrastructure,\" MEA said. Crown Prince arrived for a two-day visit in India on Tuesday.', 'news_category': 'world'}, {'news_headline': '69 dead in fire in apartments used as chemical stores in Bangladesh', 'news_article': \"At least 69 people have been killed in fire in apartment buildings, which were also used as chemical warehouses in Bangladesh's capital Dhaka, a fire official said. There was a traffic jam when the blast took place, due to which several people couldn't escape the buildings, where highly combustible chemicals, body sprays and plastic granules caught fire, officials added.\", 'news_category': 'world'}, {'news_headline': \"Saudi prince orders release of 850 Indian prisoners on PM's request\", 'news_article': 'On the request of Prime Minister Narendra Modi, Saudi Arabia Crown Prince Mohammed bin Salman ordered the release of 850 Indian prisoners lodged in Saudi Arabian jails. \"Another big deliverable!\" Ministry of External Affairs spokesperson Raveesh Kumar tweeted. The Saudi Crown Prince also announced the increase in quota for Indian Haj pilgrims to 2,00,000 at the request of PM Modi.', 'news_category': 'world'}, {'news_headline': 'Australian state to allow people to add emoji to licence plates', 'news_article': 'A firm in Australia\\'s Queensland state has announced that from March, drivers can add smiling, winking, laughing out loud, heart-eyed and sunglasses emoji to their vehicles\\' licence plates. The state\\'s largest automotive organisation welcomed the digital addition. \"People support their favourite team or town with a symbol on the number plate and using an emoji is no different,\" it added.', 'news_category': 'world'}, {'news_headline': 'US actor arrested for staging racial attack on himself', 'news_article': \"American drama series 'Empire' actor Jussie Smollett was arrested on Thursday after he allegedly faked a homophobic, racist attack. The 36-year-old actor, who is gay, claimed that he was physically assaulted by two apparent supporters of US President Donald Trump, who shouted homophobic and racist slurs at him. Police suspect Smollett paid two Nigerian brothers to stage the attack. \", 'news_category': 'world'}, {'news_headline': \"Pak envoy's statement on Pulwama attack irrelevant: Afghanistan\", 'news_article': 'Afghanistan has criticised Pakistani Ambassador Zahid Nasrullah over his remarks that Afghan peace talks would be affected if India retaliates over the Pulwama terror attack, calling them \"irrelevant\". Afghanistan said Nasrullah\\'s remarks are \"in contradiction with Pakistan\\'s commitments with regards to realising peace in Afghanistan\". The US and Taliban are taking part in the talks, aimed at ending Afghan war. ', 'news_category': 'world'}, {'news_headline': \"I'm Pakistani, I condemn Pulwama attack: Pak journo starts campaign\", 'news_article': 'Pakistani journalist Sehyr Mirza posted her picture on Facebook, holding a placard which read, \"I am a Pakistani and I condemn Pulwama terrorist attack. #AntiHateChallenge #NoToWar\". \"I won\\'t trade humanity for patriotism,\" she wrote. Posting pictures of many women holding similar placards on another Facebook page, she urged Pakistani citizens to express solidarity with \"Indian friends\".', 'news_category': 'world'}, {'news_headline': 'New Zealand Parliament passes motion condemning Pulwama attack', 'news_article': 'New Zealand\\'s Parliament has unanimously passed a motion condemning the terror attack in Jammu and Kashmir\\'s Pulwama. The motion was moved by New Zealand\\'s Deputy Prime Minister Winston Peters. \"We express solidarity with the Government of India at this difficult time as well as offer our deep sympathies to those affected,\" said Peters, who is also New Zealand\\'s Foreign Minister.', 'news_category': 'world'}, {'news_headline': 'PM Modi arrives in South Korea on 2-day visit', 'news_article': 'Prime Minister Narendra Modi arrived in South Korea on Thursday on a two-day visit. \"We regard the Republic of Korea as a valued friend with which we have a Special Strategic Partnership,\" PM Modi said ahead of his visit, adding that it will boost bilateral cooperation. PM Modi will hold his second summit with South Korean President Moon Jae-in.', 'news_category': 'world'}, {'news_headline': 'Humpty Dumpty has no place in ICJ: Salve to Pak on abusive language', 'news_article': 'Responding to Pakistan\\'s submission at ICJ, India\\'s counsel Harish Salve said, \"A criticism of a sovereign state of the case made out of the other state must be in language consistent with the dignity of other states. Humpty Dumpty has no place in this court.\" \"Transcript is peppered with words such as shameless, nonsensical, laughable and breathtaking arrogance,\" he added.', 'news_category': 'world'}, {'news_headline': 'Indian man shot dead in US while working at store, police arrest 3', 'news_article': 'A man from Telangana was killed in Florida, US after assailants opened fire in a departmental store where he was working as a manager. Police have arrested three people in connection with the case. The victim had reportedly left India seven years ago and his family has appealed to Indian government to arrange for his body to be brought home.', 'news_category': 'world'}, {'news_headline': 'India, Saudi Arabia sign 5 MoUs/deals during Crown Prince visit', 'news_article': 'India and Saudi Arabia on Wednesday signed five Memorandums of Understanding (MoUs)/Agreements during the visit of Saudi Crown Prince Mohammed bin Salman. The MoUs were signed in the fields of tourism and housing, among others. A framework cooperation programme was also signed between the two countries to enhance bilateral investment relations.', 'news_category': 'world'}, {'news_headline': 'PM Modi unveils bust of Mahatma Gandhi in South Korea', 'news_article': \"Prime Minister Narendra Modi on Thursday unveiled the bust of Mahatma Gandhi at the Yonsei University in the South Korean capital Seoul. PM Modi called it a special occasion as this year marks Mahatma Gandhi's 150th birth anniversary. South Korean President Moon Jae-in, First Lady Kim Jung-sook and former UN Secretary-General Ban Ki-moon also took part in the unveiling ceremony. \", 'news_category': 'world'}, {'news_headline': \"Not opposed to Masood Azhar's name in UN terror list: Saudi\", 'news_article': 'Saudi Arabia\\'s MoS Foreign Affairs Adel bin Ahmed Al-Jubeir on Wednesday said that \"anyone who supports and finances terrorism must be designated and punished\". He also said the Pakistan-Saudi Arabia joint statement should not be politicised and was not directed against India\\'s efforts at the United Nations to list Jaish-e-Mohammed (JeM) chief Masood Azhar as a \"global terrorist\".', 'news_category': 'world'}, {'news_headline': 'Pak gifted a gold-plated gun to Saudi Crown Prince during his visit', 'news_article': \"Saudi Arabia's Crown Prince Mohammed bin Salman received a gold-plated gun as a gift from a delegation of Pakistani senators during his diplomatic visit to the country earlier this week. The German-made Heckler & Koch MP5 is a submachine gun, which was modified with an elaborate pattern on the gold plate. Salman was also gifted a portrait of himself.\", 'news_category': 'world'}, {'news_headline': 'UK teen who joined ISIS will not be allowed here: Bangladesh', 'news_article': 'Bangladesh has said British teenager Shamima Begum, who joined ISIS when aged 15, is not a Bangladeshi citizen and there is \"no question\" of her being allowed into the country. This comes after UK Home Secretary said he would strip Shamima of her UK citizenship and suggested her to apply for Bangladesh citizenship as her parents are of Bangladeshi origin.', 'news_category': 'world'}, {'news_headline': 'Trump bars US-born woman who joined ISIS from returning', 'news_article': 'US President Donald Trump has barred America-born 24-year-old Hoda Muthana, who left to join ISIS, from returning to the US. Muthana travelled to Syria in 2014 to join ISIS and called for the killing of Americans. Muthana, who has a son, has said she deeply regrets joining ISIS and wants to return to her family in the US.', 'news_category': 'world'}, {'news_headline': 'We will target US if it deploys new missiles in Europe: Russia', 'news_article': 'Moscow will match any US move to deploy new nuclear missiles in European countries by stationing its own missiles near the US, President Vladimir Putin said on Wednesday. Putin said Russia was not seeking confrontation and would not take the first step to deploy missiles in response to Washington’s decision this month to quit a Cold War-era arms control treaty.', 'news_category': 'world'}, {'news_headline': 'Russian hackers trying to influence EU elections: Microsoft', 'news_article': 'Microsoft has claimed that Russian hackers targeted European officials and non-profit organisations in contact with government officials to influence European Union elections. About 104 individuals across six countries were targeted from September-December 2018. The attacks originated from the same group which had allegedly meddled in the 2017 French presidential elections and 2016 US elections.', 'news_category': 'world'}, {'news_headline': 'PM Modi meets Mayor of Gimhae, gifts him Bodhi tree sapling', 'news_article': \"Prime Minister Narendra Modi met Heo Seong-gon, the Mayor of the South Korean city of Gimhae and gifted him a Bodhi tree sapling during his ongoing visit to the country. According to legend, Korean queen Heo Hwang-ok, also known as Princess Suriratna, was a princess of Ayodhya before she went to South Korea. The queen's tomb is located in Gimhae.\", 'news_category': 'world'}, {'news_headline': \"Bapu's ideals can help overcome menace of terrorism: PM Modi\", 'news_article': 'Unveiling a bust of Mahatma Gandhi at South Korea\\'s Yonsei University, PM Narendra Modi on Thursday said the thoughts and ideals of Bapu can help overcome challenges of terrorism and climate change. He added Bapu showed that it\\'s important to leave a clean planet for the future generations. He said Bapu\\'s lifestyle showed \"what living in harmony with nature is\".', 'news_category': 'world'}, {'news_headline': 'UK teenager who joined ISIS to be stripped of her citizenship', 'news_article': 'British teenager Shamima Begum, who left her home country at the age of 15 to join the Islamic State in Syria, will be stripped of her citizenship, her lawyer said. Begum, now aged 19, is in a refugee camp in Syria where she gave birth to a boy last week. Begum had recently said that she wanted to return home.', 'news_category': 'world'}, {'news_headline': 'US man dragged to death after clothing gets caught on train', 'news_article': 'A man was dragged to his death after an incoming New York City subway train caught hold of an article of clothing, authorities said. The train dragged him off the platform and his body struck an electrical box, causing a flash. The 39-year-old man was found with severe trauma to his body and was later pronounced dead. ', 'news_category': 'world'}, {'news_headline': 'US launches campaign to decriminalise homosexuality globally', 'news_article': \"US President Donald Trump's administration is launching a campaign to end the criminalisation of homosexuality globally. Homosexuality is illegal in more than 70 countries, including eight countries where it is punishable by death. The US' move was conceived partly in response to the recent reported execution by hanging of a gay man in Iran.\", 'news_category': 'world'}]\n"
     ]
    },
    {
     "data": {
      "text/plain": [
       "world         25\n",
       "sports        25\n",
       "technology    24\n",
       "Name: news_category, dtype: int64"
      ]
     },
     "execution_count": 6,
     "metadata": {},
     "output_type": "execute_result"
    }
   ],
   "source": [
    "news_df = build_datasets(seed_urls)\n",
    "news_df.news_category.value_counts()"
   ]
  },
  {
   "cell_type": "code",
   "execution_count": 7,
   "metadata": {
    "collapsed": false
   },
   "outputs": [],
   "source": [
    "import spacy\n",
    "import nltk\n",
    "from nltk.tokenize import ToktokTokenizer\n",
    "import re\n",
    "from contractions import CONTRACTION_MAP\n",
    "import unicodedata\n",
    "\n",
    "nlp = spacy.load('en_core_web_md',parse=True, tag=True, entity=True)\n",
    "tokenizer = ToktokTokenizer()\n",
    "stopword_list = nltk.corpus.stopwords.words('english')\n",
    "stopword_list.remove(\"no\")\n",
    "stopword_list.remove(\"not\")"
   ]
  },
  {
   "cell_type": "code",
   "execution_count": 8,
   "metadata": {
    "collapsed": false
   },
   "outputs": [
    {
     "data": {
      "text/plain": [
       "'Some Accented text'"
      ]
     },
     "execution_count": 8,
     "metadata": {},
     "output_type": "execute_result"
    }
   ],
   "source": [
    "def strip_html_tags(text):\n",
    "    soup = BeautifulSoup(text, \"html.parser\")\n",
    "    stripped_text = soup.get_text()\n",
    "    return stripped_text\n",
    "strip_html_tags('<html><h2>Some important text</h2></html>')\n",
    "def remove_accented_chars(text):\n",
    "    text = unicodedata.normalize('NFKD', text).encode('ascii', 'ignore').decode('utf-8', 'ignore')\n",
    "    return text\n",
    "\n",
    "remove_accented_chars('Sómě Áccěntěd těxt')"
   ]
  },
  {
   "cell_type": "code",
   "execution_count": 9,
   "metadata": {
    "collapsed": false
   },
   "outputs": [
    {
     "data": {
      "text/plain": [
       "'You all cannot expand contractions I would think'"
      ]
     },
     "execution_count": 9,
     "metadata": {},
     "output_type": "execute_result"
    }
   ],
   "source": [
    "def expand_contractions(text, contraction_mapping=CONTRACTION_MAP):\n",
    "    contractions_pattern = re.compile('({})'.format('|'.join(contraction_mapping.keys())),flags=re.IGNORECASE|re.DOTALL)\n",
    "    \n",
    "    def expand_match(contraction):\n",
    "        match = contraction.group(0)\n",
    "        first_char = match[0]\n",
    "        expanded_contraction = contraction_mapping.get(match)\\\n",
    "                                if contraction_mapping.get(match)\\\n",
    "                                else contraction_mapping.get(match.lower())\n",
    "        expanded_contraction = first_char + expanded_contraction[1:]\n",
    "        return expanded_contraction\n",
    "\n",
    "    expanded_text = contractions_pattern.sub(expand_match, text)\n",
    "    expanded_text = re.sub(\"'\", \"\", expanded_text)\n",
    "    return expanded_text\n",
    "\n",
    "expand_contractions(\"Y'all can't expand contractions I'd think\")"
   ]
  },
  {
   "cell_type": "code",
   "execution_count": 10,
   "metadata": {
    "collapsed": false
   },
   "outputs": [
    {
     "data": {
      "text/plain": [
       "'Well this was fun What do you think '"
      ]
     },
     "execution_count": 10,
     "metadata": {},
     "output_type": "execute_result"
    }
   ],
   "source": [
    "def remove_special_characters(text, remove_digits=False):\n",
    "    pattern = r'[^a-zA-z0-9\\s]' if not remove_digits else r'[^a-zA-z\\s]'\n",
    "    text = re.sub(pattern, '', text)\n",
    "    return text\n",
    "\n",
    "remove_special_characters(\"Well this was fun! What do you think? 123#@!\", \n",
    "                          remove_digits=True)"
   ]
  },
  {
   "cell_type": "markdown",
   "metadata": {},
   "source": [
    "## Stemming\n",
    "the root stems may not be lexicographically correct. Which means, the stemmed words may not be semantically correct and might have a chance of not being present in the dictionary."
   ]
  },
  {
   "cell_type": "code",
   "execution_count": 11,
   "metadata": {
    "collapsed": false
   },
   "outputs": [
    {
     "data": {
      "text/plain": [
       "'those car are crash each other while driving, i think?'"
      ]
     },
     "execution_count": 11,
     "metadata": {},
     "output_type": "execute_result"
    }
   ],
   "source": [
    "text = \"Those cars are crashing each others while driving, i think?\"\n",
    "def basic_stemmer(text):\n",
    "    ps = nltk.porter.PorterStemmer()\n",
    "    text = ' '.join([ps.stem(word) for word in text.split()])\n",
    "    return text\n",
    "basic_stemmer(text)"
   ]
  },
  {
   "cell_type": "markdown",
   "metadata": {},
   "source": [
    "## Lemmatization\n",
    " the root word is always a lexicographically correct word (present in the dictionary), but the root stem may not be so.\n"
   ]
  },
  {
   "cell_type": "code",
   "execution_count": 12,
   "metadata": {
    "collapsed": false
   },
   "outputs": [
    {
     "data": {
      "text/plain": [
       "'those car be crash each other while drive , i think ?'"
      ]
     },
     "execution_count": 12,
     "metadata": {},
     "output_type": "execute_result"
    }
   ],
   "source": [
    "def lemmatize_text(text):\n",
    "    text = nlp(text) \n",
    "    text = ' '.join([word.lemma_ if word.lemma_ != '-PRON-' else word.text for word in text])\n",
    "    return text\n",
    "lemmatize_text(text)"
   ]
  },
  {
   "cell_type": "markdown",
   "metadata": {},
   "source": [
    "## Removing stopwords"
   ]
  },
  {
   "cell_type": "code",
   "execution_count": 19,
   "metadata": {
    "collapsed": false
   },
   "outputs": [
    {
     "data": {
      "text/plain": [
       "', , stopwords , computer not'"
      ]
     },
     "execution_count": 19,
     "metadata": {},
     "output_type": "execute_result"
    }
   ],
   "source": [
    "def remove_stopwords(text, is_lower_case=False):\n",
    "    tokens = tokenizer.tokenize(text)\n",
    "    tokens = [token.strip() for token in tokens]\n",
    "    if is_lower_case:\n",
    "        filtered_tokens = [token for token in tokens if token not in stopword_list]\n",
    "    else:\n",
    "        filtered_tokens = [token for token in tokens if token.lower() not in stopword_list]\n",
    "    filtered_tokens = ' '.join(filtered_tokens)\n",
    "    return filtered_tokens\n",
    "\n",
    "remove_stopwords(\"The, and, if are stopwords, computer is not\")"
   ]
  },
  {
   "cell_type": "markdown",
   "metadata": {},
   "source": [
    "## Normalizing corpus"
   ]
  },
  {
   "cell_type": "code",
   "execution_count": 21,
   "metadata": {
    "collapsed": true
   },
   "outputs": [],
   "source": [
    "def normalize_corpus(corpus, html_stripping=True, contraction_expansion=True,\n",
    "                    accented_char_removal=True, text_lower_case=True,\n",
    "                    text_lemmatization=True, special_char_removal=True,\n",
    "                    stopword_removal=True, remove_digits=True):\n",
    "\n",
    "    normalized_corpus = []\n",
    "    \n",
    "    # normalize each document in corpus\n",
    "    for doc in corpus:\n",
    "        # stip HTML\n",
    "        if html_stripping:\n",
    "            doc = strip_html_tags(doc)\n",
    "\n",
    "        # remove accented char\n",
    "        if accented_char_removal:\n",
    "            doc = remove_accented_chars(doc)\n",
    "\n",
    "        # expand contractions\n",
    "        if contraction_expansion:\n",
    "            doc = expand_contractions(doc)\n",
    "        \n",
    "        # lowercase the text\n",
    "        if text_lower_case:\n",
    "            doc = doc.lower()\n",
    "        \n",
    "        # remove extra new lines\n",
    "        doc = re.sub(r'[\\r|\\n|\\r\\n]+', ' ', doc)\n",
    "        \n",
    "        # lemmatize text\n",
    "        if text_lemmatization:\n",
    "            doc = lemmatize_text(doc)\n",
    "        \n",
    "        # remove special char and\\or digits\n",
    "        if special_char_removal:\n",
    "            special_char_pattern = re.compile(r'([{.(-)!}])')\n",
    "            doc = special_char_pattern.sub(\" \\\\1 \", doc)\n",
    "            doc = remove_special_characters(doc, remove_digits=remove_digits)\n",
    "            \n",
    "        # remove extra whitespace\n",
    "        doc = re.sub(' +', ' ', doc)\n",
    "        \n",
    "        # remove stopwords\n",
    "        if stopword_removal:\n",
    "            doc = remove_stopwords(doc, is_lower_case=text_lower_case)\n",
    "        \n",
    "        normalized_corpus.append(doc)\n",
    "        \n",
    "    return normalized_corpus\n",
    "            "
   ]
  },
  {
   "cell_type": "code",
   "execution_count": 22,
   "metadata": {
    "collapsed": false
   },
   "outputs": [
    {
     "data": {
      "text/plain": [
       "{'clean_text': 'fix google map fool banner goa google respond image banner goa warning tourist google map show wrong route baga beach go viral banner read fool google map road [ not ] take baga beach google india say already fix look like banner need fix',\n",
       " 'full_text': 'Was fixed in 2017: Google on \\'Maps fooled you\\' banner in Goa. Google has responded after an image of a banner in Goa warning tourists that Google Maps was showing them the wrong route to Baga Beach went viral. The banner read, \"You are fooled by Google Maps. This road [doesn\\'t] take you to Baga beach\". Google India said, \"We...already fixed this in 2017. Looks like the banner needs fixing now.\" '}"
      ]
     },
     "execution_count": 22,
     "metadata": {},
     "output_type": "execute_result"
    }
   ],
   "source": [
    "# combining headline and article text\n",
    "news_df['full_text'] = news_df[\"news_headline\"].map(str)+'. ' + news_df[\"news_article\"]\n",
    "\n",
    "# pre-process text and store the same\n",
    "news_df['clean_text'] = normalize_corpus(news_df['full_text'])\n",
    "norm_corpus = list(news_df['clean_text'])\n",
    "\n",
    "# show a sample news article\n",
    "news_df.iloc[1][['full_text', 'clean_text']].to_dict()"
   ]
  },
  {
   "cell_type": "code",
   "execution_count": 23,
   "metadata": {
    "collapsed": true
   },
   "outputs": [],
   "source": [
    "news_df.to_csv('tech_news.csv', index=False, encoding='utf-8')"
   ]
  },
  {
   "cell_type": "markdown",
   "metadata": {},
   "source": [
    "## Tagging parts of speech (POS)"
   ]
  },
  {
   "cell_type": "code",
   "execution_count": 35,
   "metadata": {
    "collapsed": false
   },
   "outputs": [],
   "source": [
    "# create a basic pre-processed corpus, we should not lowercase to get POS context\n",
    "corpus = normalize_corpus(news_df['full_text'], text_lower_case=False,\n",
    "                         text_lemmatization=False, special_char_removal=False)\n",
    "\n",
    "# demo for POS tagging for sample news headline\n",
    "sentence = str(news_df.iloc[1].news_headline)\n",
    "sentence_nlp = nlp(sentence)"
   ]
  },
  {
   "cell_type": "code",
   "execution_count": 36,
   "metadata": {
    "collapsed": false
   },
   "outputs": [
    {
     "data": {
      "text/html": [
       "<div>\n",
       "<style scoped>\n",
       "    .dataframe tbody tr th:only-of-type {\n",
       "        vertical-align: middle;\n",
       "    }\n",
       "\n",
       "    .dataframe tbody tr th {\n",
       "        vertical-align: top;\n",
       "    }\n",
       "\n",
       "    .dataframe thead th {\n",
       "        text-align: right;\n",
       "    }\n",
       "</style>\n",
       "<table border=\"1\" class=\"dataframe\">\n",
       "  <thead>\n",
       "    <tr style=\"text-align: right;\">\n",
       "      <th></th>\n",
       "      <th>Word</th>\n",
       "      <th>POS tag</th>\n",
       "      <th>Tag type</th>\n",
       "    </tr>\n",
       "  </thead>\n",
       "  <tbody>\n",
       "    <tr>\n",
       "      <th>0</th>\n",
       "      <td>Was</td>\n",
       "      <td>VBD</td>\n",
       "      <td>VERB</td>\n",
       "    </tr>\n",
       "    <tr>\n",
       "      <th>1</th>\n",
       "      <td>fixed</td>\n",
       "      <td>VBN</td>\n",
       "      <td>VERB</td>\n",
       "    </tr>\n",
       "    <tr>\n",
       "      <th>2</th>\n",
       "      <td>in</td>\n",
       "      <td>IN</td>\n",
       "      <td>ADP</td>\n",
       "    </tr>\n",
       "    <tr>\n",
       "      <th>3</th>\n",
       "      <td>2017</td>\n",
       "      <td>CD</td>\n",
       "      <td>NUM</td>\n",
       "    </tr>\n",
       "    <tr>\n",
       "      <th>4</th>\n",
       "      <td>:</td>\n",
       "      <td>:</td>\n",
       "      <td>PUNCT</td>\n",
       "    </tr>\n",
       "    <tr>\n",
       "      <th>5</th>\n",
       "      <td>Google</td>\n",
       "      <td>NNP</td>\n",
       "      <td>PROPN</td>\n",
       "    </tr>\n",
       "    <tr>\n",
       "      <th>6</th>\n",
       "      <td>on</td>\n",
       "      <td>IN</td>\n",
       "      <td>ADP</td>\n",
       "    </tr>\n",
       "    <tr>\n",
       "      <th>7</th>\n",
       "      <td>'</td>\n",
       "      <td>``</td>\n",
       "      <td>PUNCT</td>\n",
       "    </tr>\n",
       "    <tr>\n",
       "      <th>8</th>\n",
       "      <td>Maps</td>\n",
       "      <td>NNS</td>\n",
       "      <td>NOUN</td>\n",
       "    </tr>\n",
       "    <tr>\n",
       "      <th>9</th>\n",
       "      <td>fooled</td>\n",
       "      <td>VBD</td>\n",
       "      <td>VERB</td>\n",
       "    </tr>\n",
       "    <tr>\n",
       "      <th>10</th>\n",
       "      <td>you</td>\n",
       "      <td>PRP</td>\n",
       "      <td>PRON</td>\n",
       "    </tr>\n",
       "    <tr>\n",
       "      <th>11</th>\n",
       "      <td>'</td>\n",
       "      <td>''</td>\n",
       "      <td>PUNCT</td>\n",
       "    </tr>\n",
       "    <tr>\n",
       "      <th>12</th>\n",
       "      <td>banner</td>\n",
       "      <td>NN</td>\n",
       "      <td>NOUN</td>\n",
       "    </tr>\n",
       "    <tr>\n",
       "      <th>13</th>\n",
       "      <td>in</td>\n",
       "      <td>IN</td>\n",
       "      <td>ADP</td>\n",
       "    </tr>\n",
       "    <tr>\n",
       "      <th>14</th>\n",
       "      <td>Goa</td>\n",
       "      <td>NNP</td>\n",
       "      <td>PROPN</td>\n",
       "    </tr>\n",
       "  </tbody>\n",
       "</table>\n",
       "</div>"
      ],
      "text/plain": [
       "      Word POS tag Tag type\n",
       "0      Was     VBD     VERB\n",
       "1    fixed     VBN     VERB\n",
       "2       in      IN      ADP\n",
       "3     2017      CD      NUM\n",
       "4        :       :    PUNCT\n",
       "5   Google     NNP    PROPN\n",
       "6       on      IN      ADP\n",
       "7        '      ``    PUNCT\n",
       "8     Maps     NNS     NOUN\n",
       "9   fooled     VBD     VERB\n",
       "10     you     PRP     PRON\n",
       "11       '      ''    PUNCT\n",
       "12  banner      NN     NOUN\n",
       "13      in      IN      ADP\n",
       "14     Goa     NNP    PROPN"
      ]
     },
     "execution_count": 36,
     "metadata": {},
     "output_type": "execute_result"
    }
   ],
   "source": [
    "# POS tagging with spacy\n",
    "spacy_pos_tagged = [(word, word.tag_, word.pos_) for word in sentence_nlp]\n",
    "pd.DataFrame(spacy_pos_tagged, columns=['Word', 'POS tag', 'Tag type'])"
   ]
  },
  {
   "cell_type": "code",
   "execution_count": 37,
   "metadata": {
    "collapsed": false
   },
   "outputs": [
    {
     "data": {
      "text/html": [
       "<div>\n",
       "<style scoped>\n",
       "    .dataframe tbody tr th:only-of-type {\n",
       "        vertical-align: middle;\n",
       "    }\n",
       "\n",
       "    .dataframe tbody tr th {\n",
       "        vertical-align: top;\n",
       "    }\n",
       "\n",
       "    .dataframe thead th {\n",
       "        text-align: right;\n",
       "    }\n",
       "</style>\n",
       "<table border=\"1\" class=\"dataframe\">\n",
       "  <thead>\n",
       "    <tr style=\"text-align: right;\">\n",
       "      <th></th>\n",
       "      <th>Word</th>\n",
       "      <th>POS tag</th>\n",
       "    </tr>\n",
       "  </thead>\n",
       "  <tbody>\n",
       "    <tr>\n",
       "      <th>0</th>\n",
       "      <td>Was</td>\n",
       "      <td>NNP</td>\n",
       "    </tr>\n",
       "    <tr>\n",
       "      <th>1</th>\n",
       "      <td>fixed</td>\n",
       "      <td>VBN</td>\n",
       "    </tr>\n",
       "    <tr>\n",
       "      <th>2</th>\n",
       "      <td>in</td>\n",
       "      <td>IN</td>\n",
       "    </tr>\n",
       "    <tr>\n",
       "      <th>3</th>\n",
       "      <td>2017:</td>\n",
       "      <td>CD</td>\n",
       "    </tr>\n",
       "    <tr>\n",
       "      <th>4</th>\n",
       "      <td>Google</td>\n",
       "      <td>NNP</td>\n",
       "    </tr>\n",
       "    <tr>\n",
       "      <th>5</th>\n",
       "      <td>on</td>\n",
       "      <td>IN</td>\n",
       "    </tr>\n",
       "    <tr>\n",
       "      <th>6</th>\n",
       "      <td>'Maps</td>\n",
       "      <td>NNS</td>\n",
       "    </tr>\n",
       "    <tr>\n",
       "      <th>7</th>\n",
       "      <td>fooled</td>\n",
       "      <td>VBN</td>\n",
       "    </tr>\n",
       "    <tr>\n",
       "      <th>8</th>\n",
       "      <td>you'</td>\n",
       "      <td>JJ</td>\n",
       "    </tr>\n",
       "    <tr>\n",
       "      <th>9</th>\n",
       "      <td>banner</td>\n",
       "      <td>NN</td>\n",
       "    </tr>\n",
       "    <tr>\n",
       "      <th>10</th>\n",
       "      <td>in</td>\n",
       "      <td>IN</td>\n",
       "    </tr>\n",
       "    <tr>\n",
       "      <th>11</th>\n",
       "      <td>Goa</td>\n",
       "      <td>NNP</td>\n",
       "    </tr>\n",
       "  </tbody>\n",
       "</table>\n",
       "</div>"
      ],
      "text/plain": [
       "      Word POS tag\n",
       "0      Was     NNP\n",
       "1    fixed     VBN\n",
       "2       in      IN\n",
       "3    2017:      CD\n",
       "4   Google     NNP\n",
       "5       on      IN\n",
       "6    'Maps     NNS\n",
       "7   fooled     VBN\n",
       "8     you'      JJ\n",
       "9   banner      NN\n",
       "10      in      IN\n",
       "11     Goa     NNP"
      ]
     },
     "execution_count": 37,
     "metadata": {},
     "output_type": "execute_result"
    }
   ],
   "source": [
    "\n",
    "\n",
    "# POS tagging with nltk\n",
    "nltk_pos_tagged = nltk.pos_tag(sentence.split(),)\n",
    "pd.DataFrame(nltk_pos_tagged, columns=['Word', 'POS tag'])"
   ]
  },
  {
   "cell_type": "markdown",
   "metadata": {},
   "source": [
    "## TODO: Shallow parsing"
   ]
  },
  {
   "cell_type": "code",
   "execution_count": null,
   "metadata": {
    "collapsed": true
   },
   "outputs": [],
   "source": []
  }
 ],
 "metadata": {
  "kernelspec": {
   "display_name": "Python 3",
   "language": "python",
   "name": "python3"
  },
  "language_info": {
   "codemirror_mode": {
    "name": "ipython",
    "version": 3
   },
   "file_extension": ".py",
   "mimetype": "text/x-python",
   "name": "python",
   "nbconvert_exporter": "python",
   "pygments_lexer": "ipython3",
   "version": "3.5.6"
  }
 },
 "nbformat": 4,
 "nbformat_minor": 1
}
